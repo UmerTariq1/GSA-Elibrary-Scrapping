{
 "cells": [
  {
   "cell_type": "code",
   "execution_count": 41,
   "metadata": {},
   "outputs": [],
   "source": [
    "import requests\n",
    "from bs4 import BeautifulSoup \n",
    "from pathlib import Path\n",
    "import os\n",
    "import sys\n",
    "import time\n",
    "import re\n",
    "import traceback\n"
   ]
  },
  {
   "cell_type": "code",
   "execution_count": 31,
   "metadata": {},
   "outputs": [],
   "source": [
    "#https://www.gsaelibrary.gsa.gov/ElibMain/contractorList.do?contractorListFor=A\n",
    "\n",
    "basicLink1=\"https://www.gsaelibrary.gsa.gov/ElibMain/\"\n",
    "basicLink2 = \"contractorList.do?contractorListFor=\"   #seperate because basicLink1 is used by sub urls too.\n",
    "pageLetter='A'\n",
    "downloadPath = \"D:\\\\resume\\\\Junaid Ahmed Resume\\\\files\\\\\" \n",
    "bad_chars = \"\\\\/:?*\\\"<>|\"\n",
    "bad_chars_list = [\"\\\\\",\"/\",\":\",\"?\",\"*\",\"\\\"\",\"<\",\">\",\"|\"]\n",
    "\n"
   ]
  },
  {
   "cell_type": "code",
   "execution_count": 61,
   "metadata": {},
   "outputs": [],
   "source": [
    "# Already initialized. so commented\n",
    "#dataDictionaryList = []\n",
    "#gsaList = []\n",
    "\n",
    "# link = outer link, list wala page hai ye\n",
    "# subLink = list k har item ka page ka link\n",
    "# linkCounter \n",
    "# fileFinalURL\n",
    "# linkText"
   ]
  },
  {
   "cell_type": "code",
   "execution_count": 32,
   "metadata": {},
   "outputs": [],
   "source": [
    "def RemoveUnwwantedCharacters(myStr):\n",
    "    myStr2 = \"\"\n",
    "    for letter in myStr:\n",
    "        if letter not in bad_chars_list:\n",
    "            myStr2 += letter\n",
    "    return myStr2"
   ]
  },
  {
   "cell_type": "code",
   "execution_count": 56,
   "metadata": {},
   "outputs": [],
   "source": [
    "def GetLink(link):\n",
    "    try:\n",
    "        time.sleep(1)\n",
    "        request=requests.get(link)\n",
    "    except requests.exceptions.ConnectionError:\n",
    "        print(\"Connection refused\")\n",
    "        print(\"Sleeping for 5 seconds\")\n",
    "        time.sleep(5)\n",
    "        try:\n",
    "            request=requests.get(link)\n",
    "        except requests.exceptions.ConnectionError:\n",
    "            print(\"Connection refused again.\")\n",
    "            print(\"Sleeping for 15 seconds\")\n",
    "            time.sleep(15)\n",
    "            try:\n",
    "                request=requests.get(link)\n",
    "            except requests.exceptions.ConnectionError:\n",
    "                print(\"Connection refused again.\")\n",
    "                print(\"Sleeping for 30 seconds\")\n",
    "                time.sleep(30)\n",
    "                try:\n",
    "                    request=requests.get(link)\n",
    "                except requests.exceptions.ConnectionError:\n",
    "                    print(\"Connection refused again.\")\n",
    "                    print(\"Sleeping for 60 seconds\")\n",
    "                    time.sleep(60)\n",
    "                    request=requests.get(link)\n",
    "    return request"
   ]
  },
  {
   "cell_type": "code",
   "execution_count": 6,
   "metadata": {},
   "outputs": [],
   "source": [
    "def downloadFile(url, fileName):\n",
    "    with open(fileName, \"wb\") as file:\n",
    "        response = requests.get(url)\n",
    "        file.write(response.content)"
   ]
  },
  {
   "cell_type": "code",
   "execution_count": 13,
   "metadata": {},
   "outputs": [],
   "source": [
    "# link = outer link, list wala page hai ye\n",
    "# subLink = list k har item ka page ka link\n",
    "# linkCounter \n",
    "# fileFinalURL\n",
    "# linkText\n",
    "\n",
    "def UpdateDictionary(link,subLink,linkCounter, fileFinalURL, linkText):\n",
    "    dataDictionary = {}\n",
    "    dataDictionary[\"link\"] = link\n",
    "    dataDictionary[\"linkText\"] = linkText\n",
    "    dataDictionary[\"subLink\"] = subLink\n",
    "    dataDictionary[\"linkCounter\"] = linkCounter\n",
    "    dataDictionary[\"fileFinalURL\"] = fileFinalURL\n",
    "    dataDictionaryList.append(dataDictionary)\n",
    "    \n",
    "    "
   ]
  },
  {
   "cell_type": "code",
   "execution_count": null,
   "metadata": {
    "scrolled": true
   },
   "outputs": [
    {
     "name": "stdout",
     "output_type": "stream",
     "text": [
      "1, 2, 3, 4, 5, 6, 7, 8, 9, 10, 11, 12, 13, 14, 15, 16, 17, 18, 19, 20, 21, 22, 23, 24, 25, 26, 27, 28, 29, 30, 31, 32, 33, 34, 35, 36, 37, 38, 39, 40, 41, 42, 43, 44, 45, 46, 47, 48, 49, 50, 51, 52, 53, 54, 55, 56, 57, 58, 59, 60, 61, 62, 63, 64, 65, 66, 67, 68, 69, 70, 71, 72, 73, 74, 75, 76, 77, 78, 79, 80, 81, 82, 83, 84, 85, 86, 87, 88, 89, 90, 91, 92, 93, 94, 95, 96, 97, 98, 99, 100, 101, 102, 103, 104, 105, 106, 107, 108, 109, 110, 111, 112, 113, 114, 115, 116, 117, 118, 119, 120, 121, 122, 123, 124, 125, 126, 127, 128, 129, 130, 131, 132, 133, 134, 135, 136, 137, 138, 139, 140, 141, 142, 143, 144, 145, 146, 147, 148, 149, 150, 151, 152, 153, 154, 155, 156, 157, 158, 159, 160, 161, 162, 163, 164, 165, 166, 167, 168, 169, 170, 171, 172, 173, 174, 175, 176, 177, 178, 179, 180, 181, 182, 183, 184, 185, 186, 187, 188, 189, 190, 191, 192, 193, 194, 195, 196, 197, 198, 199, 200, 201, 202, 203, 204, 205, 206, 207, 208, 209, 210, 211, 212, 213, 214, 215, 216, 217, 218, 219, 220, 221, 222, 223, 224, 225, 226, 227, 228, 229, 230, 231, 232, 233, 234, 235, 236, 237, 238, 239, 240, 241, 242, 243, 244, 245, 246, 247, 248, 249, 250, 251, 252, 253, 254, 255, 256, 257, 258, 259, 260, 261, 262, 263, 264, 265, 266, 267, 268, 269, 270, 271, 272, 273, 274, 275, 276, 277, 278, 279, 280, 281, 282, 283, 284, Connection refused\n",
      "Sleeping for 5 seconds\n",
      "Connection refused again.\n",
      "Sleeping for 15 seconds\n",
      "Connection refused again.\n",
      "Sleeping for 30 seconds\n"
     ]
    }
   ],
   "source": [
    "link=basicLink1 + basicLink2 + pageLetter\n",
    "\n",
    "totalTime = 0\n",
    "avgTime = 0\n",
    "\n",
    "r = GetLink(link)\n",
    "    \n",
    "soup=BeautifulSoup(r.text,'html.parser')\n",
    "\n",
    "rows = soup.find(\"table\", border=1).find_all(\"tr\")\n",
    "\n",
    "linkCounter = 0\n",
    "processedLinkCounter = 0\n",
    "gsaList = []\n",
    "try:\n",
    "    for row in rows:\n",
    "\n",
    "        columns = row.find_all(\"td\")\n",
    "        for column in columns:        \n",
    "\n",
    "            linkCounter+=1\n",
    "            processedLinkCounter+=1\n",
    "            print(linkCounter,end=\", \")\n",
    "            if linkCounter<=283:     #links already processed\n",
    "                continue\n",
    "\n",
    "            startTime = time.time()\n",
    "            linkText = column.get_text()\n",
    "            subURL = row.find_all(\"td\")[0].find('a',href=True)['href']\n",
    "\n",
    "            subLink=basicLink1 + subURL        \n",
    "            subRequest = GetLink(subLink)\n",
    "\n",
    "            subSoup=BeautifulSoup(subRequest.text,'html.parser')\n",
    "            FileTable = subSoup.find_all(\"table\")[8].find_all(\"table\")[7].find_all(\"tr\")[1].find_all(\"td\")[3].find_all(\"a\")\n",
    "            #its not logging for pages with no files, so run this again afterwards.\n",
    "            for fileTablePart in FileTable:\n",
    "                FileHtmURL = fileTablePart[\"href\"]\n",
    "                fileUrlShort = FileHtmURL.rsplit(\"/\",1)[0]+\"/\"\n",
    "                if (FileHtmURL == \"http://www.gsa.gov/s2\"):\n",
    "                    #not added in dictionary\n",
    "                    print(\"-----------------------------------------------------------------------------------------\")\n",
    "                    gsaList.append(linkCounter)\n",
    "                    print(\"File link is = http://www.gsa.gov/s2 \")\n",
    "                    print(\"linkCounter : \",linkCounter)\n",
    "                    print(\"subLink : \",subLink)\n",
    "                    print(\"linkText : \",linkText)\n",
    "                    print(\"-----------------------------------------------------------------------------------------\")\n",
    "                else:\n",
    "                    FileHtmRequest = GetLink(FileHtmURL)\n",
    "                    FileHtmSoup =BeautifulSoup(FileHtmRequest.text,'html.parser')\n",
    "                    FileHtmResult = FileHtmSoup.find(\"meta\")[\"content\"]\n",
    "                    FilemetaURL = FileHtmSoup.find(\"meta\")[\"content\"].split(\"url=\")[1]\n",
    "                    fileFinalURL = fileUrlShort+FilemetaURL   \n",
    "\n",
    "                    UpdateDictionary(link,subLink,linkCounter, fileFinalURL, linkText)\n",
    "\n",
    "                    folderName = RemoveUnwwantedCharacters (linkText) + \"\\\\\"\n",
    "                    Path(downloadPath+folderName).mkdir(parents=True, exist_ok=True,mode=0o777)\n",
    "                    url = fileFinalURL   \n",
    "                    extension = fileFinalURL.split(\".\")[-1].lower()\n",
    "                    fileName = FileHtmURL.rsplit(\"/\",2)[1] + \".\" +extension\n",
    "                    fileName = RemoveUnwwantedCharacters(fileName)\n",
    "                    destinationPath = (downloadPath+folderName+fileName)\n",
    "                    downloadFile(url, destinationPath)\n",
    "\n",
    "            endTime = time.time()\n",
    "            totalTime = totalTime + (endTime-startTime)\n",
    "            avgTime = totalTime/processedLinkCounter\n",
    "\n",
    "            if linkCounter%10==0:\n",
    "                print(\"\\n\\n Total links  = \"+ str(linkCounter))\n",
    "                print(\"\\n\\n Total links processed = \"+ str(processedLinkCounter))\n",
    "                print(\"Total elapsed time (in seconds) = \"+str(totalTime))\n",
    "                print(\"Average link time (in seconds)  = \"+ str(avgTime))\n",
    "                print(\"\\n\\n \")\n",
    "except Exception as e:\n",
    "    print(\"\\n\\n General error occured. \");\n",
    "    print(\"last instances of below items are : \")\n",
    "    print(\"linkCounter = \" + str(linkCounter))\n",
    "    print(\"pageLetter = \" + str(pageLetter))\n",
    "    print(\"link = \" + str(link))\n",
    "    print(\"linkText = \" + str(linkText))\n",
    "    print(\"subLink = \" + str(subLink))\n",
    "    print(\"fileFinalURL = \" + str(fileFinalURL))\n",
    "    print(\"folderName = \" + str(folderName))\n",
    "    print(\"fileName = \" + str(fileName))\n",
    "    print(\"destinationPath = \" + str(destinationPath))\n",
    "    print(\"Error : \")\n",
    "    print(e)\n",
    "    print(\"Traceback: \")\n",
    "    print(traceback.format_exc())\n",
    "    \n",
    "    "
   ]
  },
  {
   "cell_type": "code",
   "execution_count": null,
   "metadata": {},
   "outputs": [],
   "source": []
  },
  {
   "cell_type": "code",
   "execution_count": 54,
   "metadata": {},
   "outputs": [],
   "source": [
    "# dataDictionaryList = dataDictionaryList[:-1]"
   ]
  },
  {
   "cell_type": "code",
   "execution_count": 71,
   "metadata": {},
   "outputs": [
    {
     "data": {
      "text/plain": [
       "236"
      ]
     },
     "execution_count": 71,
     "metadata": {},
     "output_type": "execute_result"
    }
   ],
   "source": [
    "len(dataDictionaryList)"
   ]
  },
  {
   "cell_type": "code",
   "execution_count": null,
   "metadata": {},
   "outputs": [],
   "source": []
  },
  {
   "cell_type": "code",
   "execution_count": null,
   "metadata": {},
   "outputs": [],
   "source": []
  },
  {
   "cell_type": "code",
   "execution_count": null,
   "metadata": {},
   "outputs": [],
   "source": []
  },
  {
   "cell_type": "code",
   "execution_count": null,
   "metadata": {},
   "outputs": [],
   "source": []
  },
  {
   "cell_type": "code",
   "execution_count": null,
   "metadata": {},
   "outputs": [],
   "source": [
    "# there is file in these follwing links but they redirect to some other websites :\n",
    "# ---------------------------------------\n",
    "#linkCounter = 70\n",
    "#linkText = 1ST AMERICAN SYSTEMS AND SERVICES LLC\n",
    "#subLink = https://www.gsaelibrary.gsa.gov/ElibMain/contractorInfo.do;jsessionid=JF5TTmzqRNQCHMGhNEvFnNSF.prd1pweb64?contractNumber=GS00Q17GWD2458&contractorName=1ST+AMERICAN+SYSTEMS+AND+SERVICES+LLC&executeQuery=YES"
   ]
  }
 ],
 "metadata": {
  "kernelspec": {
   "display_name": "Python 3",
   "language": "python",
   "name": "python3"
  },
  "language_info": {
   "codemirror_mode": {
    "name": "ipython",
    "version": 3
   },
   "file_extension": ".py",
   "mimetype": "text/x-python",
   "name": "python",
   "nbconvert_exporter": "python",
   "pygments_lexer": "ipython3",
   "version": "3.7.4"
  }
 },
 "nbformat": 4,
 "nbformat_minor": 4
}
