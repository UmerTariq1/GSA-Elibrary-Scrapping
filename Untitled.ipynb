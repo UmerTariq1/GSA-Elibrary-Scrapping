{
 "cells": [
  {
   "cell_type": "code",
   "execution_count": 11,
   "metadata": {},
   "outputs": [],
   "source": [
    "import requests\n",
    "from bs4 import BeautifulSoup \n",
    "from pathlib import Path\n",
    "import os\n",
    "import sys\n",
    "import time\n",
    "import re"
   ]
  },
  {
   "cell_type": "code",
   "execution_count": 18,
   "metadata": {},
   "outputs": [],
   "source": [
    "#https://www.gsaelibrary.gsa.gov/ElibMain/contractorList.do?contractorListFor=A\n",
    "\n",
    "basicLink1=\"https://www.gsaelibrary.gsa.gov/ElibMain/\"\n",
    "basicLink2 = \"contractorList.do?contractorListFor=\"   #seperate because basicLink1 is used by sub urls too.\n",
    "pageLetter='A'\n",
    "downloadPath = \"D:\\\\resume\\\\Junaid Ahmed Resume\\\\files\\\\\" \n",
    "bad_chars = \"\\\\/:?*\\\"<>|\""
   ]
  },
  {
   "cell_type": "code",
   "execution_count": 22,
   "metadata": {},
   "outputs": [],
   "source": [
    "def GetLink(link):\n",
    "    try:\n",
    "        request=requests.get(link)\n",
    "    except requests.exceptions.ConnectionError:\n",
    "        print(\"Connection refused\")\n",
    "        print(\"Sleeping for 5 seconds\")\n",
    "        time.sleep(5)\n",
    "        try:\n",
    "            request=requests.get(link)\n",
    "        except requests.exceptions.ConnectionError:\n",
    "            print(\"Connection refused again.\")\n",
    "            print(\"Sleeping for 15 seconds\")\n",
    "            time.sleep(15)\n",
    "            try:\n",
    "                request=requests.get(link)\n",
    "            except requests.exceptions.ConnectionError:\n",
    "                print(\"Connection refused again.\")\n",
    "                print(\"Sleeping for 30 seconds\")\n",
    "                time.sleep(30)\n",
    "                try:\n",
    "                    request=requests.get(link)\n",
    "                except requests.exceptions.ConnectionError:\n",
    "                    print(\"Connection refused again.\")\n",
    "                    print(\"Sleeping for 60 seconds\")\n",
    "                    time.sleep(60)\n",
    "                    request=requests.get(link)\n",
    "    return request"
   ]
  },
  {
   "cell_type": "code",
   "execution_count": 23,
   "metadata": {},
   "outputs": [],
   "source": [
    "def downloadFile(url, fileName):\n",
    "    with open(fileName, \"wb\") as file:\n",
    "        response = requests.get(url)\n",
    "        file.write(response.content)"
   ]
  },
  {
   "cell_type": "code",
   "execution_count": 24,
   "metadata": {},
   "outputs": [
    {
     "name": "stdout",
     "output_type": "stream",
     "text": [
      "Connection refused\n",
      "Sleeping for 5 seconds\n",
      "Connection refused again.\n",
      "Sleeping for 15 seconds\n",
      "Connection refused again.\n",
      "Sleeping for 30 seconds\n"
     ]
    },
    {
     "ename": "IndexError",
     "evalue": "list index out of range",
     "output_type": "error",
     "traceback": [
      "\u001b[1;31m---------------------------------------------------------------------------\u001b[0m",
      "\u001b[1;31mIndexError\u001b[0m                                Traceback (most recent call last)",
      "\u001b[1;32m<ipython-input-24-db24c78637c8>\u001b[0m in \u001b[0;36m<module>\u001b[1;34m\u001b[0m\n\u001b[0;32m     36\u001b[0m \u001b[1;33m\u001b[0m\u001b[0m\n\u001b[0;32m     37\u001b[0m             \u001b[0mFileHtmSoup\u001b[0m \u001b[1;33m=\u001b[0m\u001b[0mBeautifulSoup\u001b[0m\u001b[1;33m(\u001b[0m\u001b[0mFileHtmRequest\u001b[0m\u001b[1;33m.\u001b[0m\u001b[0mtext\u001b[0m\u001b[1;33m,\u001b[0m\u001b[1;34m'html.parser'\u001b[0m\u001b[1;33m)\u001b[0m\u001b[1;33m\u001b[0m\u001b[1;33m\u001b[0m\u001b[0m\n\u001b[1;32m---> 38\u001b[1;33m             \u001b[0mFilemetaURL\u001b[0m \u001b[1;33m=\u001b[0m \u001b[0mFileHtmSoup\u001b[0m\u001b[1;33m.\u001b[0m\u001b[0mfind\u001b[0m\u001b[1;33m(\u001b[0m\u001b[1;34m\"meta\"\u001b[0m\u001b[1;33m)\u001b[0m\u001b[1;33m[\u001b[0m\u001b[1;34m\"content\"\u001b[0m\u001b[1;33m]\u001b[0m\u001b[1;33m.\u001b[0m\u001b[0msplit\u001b[0m\u001b[1;33m(\u001b[0m\u001b[1;34m\"url=\"\u001b[0m\u001b[1;33m)\u001b[0m\u001b[1;33m[\u001b[0m\u001b[1;36m1\u001b[0m\u001b[1;33m]\u001b[0m\u001b[1;33m\u001b[0m\u001b[1;33m\u001b[0m\u001b[0m\n\u001b[0m\u001b[0;32m     39\u001b[0m             \u001b[0mfileFinalURL\u001b[0m \u001b[1;33m=\u001b[0m \u001b[0mfileUrlShort\u001b[0m\u001b[1;33m+\u001b[0m\u001b[0mFilemetaURL\u001b[0m\u001b[1;33m\u001b[0m\u001b[1;33m\u001b[0m\u001b[0m\n\u001b[0;32m     40\u001b[0m \u001b[1;33m\u001b[0m\u001b[0m\n",
      "\u001b[1;31mIndexError\u001b[0m: list index out of range"
     ]
    }
   ],
   "source": [
    "link=basicLink1 + basicLink2 + pageLetter\n",
    "\n",
    "totalTime = 0\n",
    "avgTime = 0\n",
    "\n",
    "r = GetLink(link)\n",
    "    \n",
    "soup=BeautifulSoup(r.text,'html.parser')\n",
    "\n",
    "rows = soup.find(\"table\", border=1).find_all(\"tr\")\n",
    "\n",
    "linkCounter = 0\n",
    "for row in rows:\n",
    "    linkCounter+=1\n",
    "    \n",
    "    if linkCounter<=21:     #links already processed\n",
    "        continue\n",
    "    \n",
    "    columns = row.find_all(\"td\")\n",
    "    for column in columns:        \n",
    "        startTime = time.time()\n",
    "\n",
    "        linkText = column.get_text()\n",
    "        subURL = row.find_all(\"td\")[0].find('a',href=True)['href']\n",
    "        \n",
    "        subLink=basicLink1 + subURL        \n",
    "        subRequest = GetLink(subLink)\n",
    "        \n",
    "        subSoup=BeautifulSoup(subRequest.text,'html.parser')\n",
    "        FileTable = subSoup.find_all(\"table\")[8].find_all(\"table\")[7].find_all(\"tr\")[1].find_all(\"td\")[3].find_all(\"a\")\n",
    "        for fileTablePart in FileTable:\n",
    "            FileHtmURL = fileTablePart[\"href\"]\n",
    "            fileUrlShort = FileHtmURL.rsplit(\"/\",1)[0]+\"/\"\n",
    "\n",
    "            FileHtmRequest = GetLink(FileHtmURL)\n",
    "\n",
    "            FileHtmSoup =BeautifulSoup(FileHtmRequest.text,'html.parser')\n",
    "            FilemetaURL = FileHtmSoup.find(\"meta\")[\"content\"].split(\"url=\")[1]\n",
    "            fileFinalURL = fileUrlShort+FilemetaURL   \n",
    "\n",
    "            folderName = linkText.strip(bad_chars) + \"\\\\\"\n",
    "            Path(downloadPath+folderName).mkdir(parents=True, exist_ok=True,mode=0o777)\n",
    "            url = fileFinalURL   \n",
    "            fileName = FileHtmURL.rsplit(\"/\",2)[1] + \".pdf\"\n",
    "            fileName = fileName.strip(bad_chars)\n",
    "            destinationPath = (downloadPath+folderName+fileName)\n",
    "            downloadFile(url, destinationPath)\n",
    "\n",
    "        endTime = time.time()\n",
    "        totalTime = totalTime + (endTime-startTime)\n",
    "        avgTime = totalTime/linkCounter\n",
    "        \n",
    "    if linkCounter%9==0:\n",
    "        print(\"\\n\\n Total links processed = \"+ str(linkCounter))\n",
    "        print(\"Total elapsed time (in seconds) = \"+str(totalTime))\n",
    "        print(\"Average link time (in seconds)  = \"+ str(avgTime))\n",
    "        print(\"\\n\\n \")\n",
    "    "
   ]
  },
  {
   "cell_type": "code",
   "execution_count": null,
   "metadata": {},
   "outputs": [],
   "source": []
  },
  {
   "cell_type": "code",
   "execution_count": null,
   "metadata": {},
   "outputs": [],
   "source": []
  },
  {
   "cell_type": "code",
   "execution_count": null,
   "metadata": {},
   "outputs": [],
   "source": []
  },
  {
   "cell_type": "code",
   "execution_count": null,
   "metadata": {},
   "outputs": [],
   "source": []
  },
  {
   "cell_type": "code",
   "execution_count": null,
   "metadata": {},
   "outputs": [],
   "source": []
  },
  {
   "cell_type": "code",
   "execution_count": 114,
   "metadata": {},
   "outputs": [],
   "source": []
  },
  {
   "cell_type": "code",
   "execution_count": null,
   "metadata": {},
   "outputs": [],
   "source": []
  },
  {
   "cell_type": "code",
   "execution_count": null,
   "metadata": {},
   "outputs": [],
   "source": []
  }
 ],
 "metadata": {
  "kernelspec": {
   "display_name": "Python 3",
   "language": "python",
   "name": "python3"
  },
  "language_info": {
   "codemirror_mode": {
    "name": "ipython",
    "version": 3
   },
   "file_extension": ".py",
   "mimetype": "text/x-python",
   "name": "python",
   "nbconvert_exporter": "python",
   "pygments_lexer": "ipython3",
   "version": "3.7.4"
  }
 },
 "nbformat": 4,
 "nbformat_minor": 4
}
